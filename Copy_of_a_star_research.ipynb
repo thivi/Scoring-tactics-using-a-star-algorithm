{
  "nbformat": 4,
  "nbformat_minor": 0,
  "metadata": {
    "colab": {
      "name": "Copy of a-star-research.ipynb",
      "provenance": []
    },
    "kernelspec": {
      "name": "python3",
      "display_name": "Python 3"
    },
    "language_info": {
      "name": "python"
    }
  },
  "cells": [
    {
      "cell_type": "code",
      "metadata": {
        "id": "V1CXcOjk2xvx"
      },
      "source": [
        "class Bowler:\n",
        "    def __init__(self, name, average):\n",
        "        self.name = name\n",
        "        self.average = float(average)\n",
        "\n",
        "\n",
        "class Node:\n",
        "    def __init__(self, cost, h_score, total_cost, runs, total_runs, over, parent_id):\n",
        "        self.cost = cost\n",
        "        self.total_cost = total_cost + cost\n",
        "        self.h_score = h_score\n",
        "        self.runs = runs\n",
        "        self.total_runs = total_runs + runs\n",
        "        self.over = over\n",
        "        self.a_star_score = self.total_cost + self.h_score\n",
        "        self.id = str(runs)+\"-\"+parent_id\n",
        "        self.parent_id = parent_id\n",
        "\n",
        "class AStar:\n",
        "    def __init__(self, target, bowlers, bowling_order):\n",
        "        self.target = target\n",
        "        self.bowlers = bowlers\n",
        "        self.bowling_order = bowling_order\n",
        "        self.overs = len(bowling_order)\n",
        "\n",
        "    def _calculate_cost(self, runs, average):\n",
        "        return ((runs ** 2) / average)\n",
        "\n",
        "    def _heuristic_score(self, runs_to_score, overs_remaining):\n",
        "        if overs_remaining == 0:\n",
        "            return 0\n",
        "        total_average = 0\n",
        "        for i in range(self.overs - overs_remaining, self.overs):\n",
        "            total_average += self.bowlers[self.bowling_order[i]].average\n",
        "\n",
        "        average_average = total_average / overs_remaining\n",
        "\n",
        "        if runs_to_score < 0:\n",
        "            runs_to_score = 0\n",
        "\n",
        "        return (runs_to_score ** 2) / total_average\n",
        "\n",
        "    def _create_level(self, selected_node):\n",
        "        nodes = []\n",
        "        over = selected_node.over + 1\n",
        "        total_runs = selected_node.total_runs\n",
        "        total_cost = selected_node.total_cost\n",
        "        parent_id = selected_node.id\n",
        "\n",
        "        for i in range(0, 37):\n",
        "            cost = self._calculate_cost(\n",
        "                i, self.bowlers[self.bowling_order[over-1]].average)\n",
        "\n",
        "            h_score = self._heuristic_score(\n",
        "                self.target - (total_runs + i), self.overs - over)\n",
        "\n",
        "            nodes.append(Node(cost, h_score, total_cost, i, total_runs, over, parent_id))\n",
        "\n",
        "        return nodes\n",
        "\n",
        "    def find_combination(self):\n",
        "        open_list = []\n",
        "        closed_list = []\n",
        "        root_node = Node(0, self._heuristic_score(self.target, self.overs), 0, 0, 0, 0, \"root\")\n",
        "\n",
        "        open_list.append(root_node)\n",
        "\n",
        "        while (len(open_list) != 0 and open_list[0].total_runs < self.target):\n",
        "            selected_node = open_list[0]\n",
        "            #print(selected_node.id)\n",
        "            if (selected_node.over == self.overs):\n",
        "                open_list.pop(0)\n",
        "                continue\n",
        "            over_outcomes = self._create_level(selected_node)\n",
        "            open_list.pop(0)\n",
        "            closed_list.append(selected_node)\n",
        "            open_list = open_list + over_outcomes\n",
        "            open_list.sort(key=lambda e: e.a_star_score)\n",
        "\n",
        "        goal = open_list[0]\n",
        "        child = goal\n",
        "        path = [goal]\n",
        "\n",
        "        while (child.parent_id != \"root\"):\n",
        "            for node in closed_list:\n",
        "                if node.id == child.parent_id:\n",
        "                    path.append(node)\n",
        "                    child = node\n",
        "                    break\n",
        "\n",
        "        path.reverse()\n",
        "        path.pop(0)\n",
        "        return path"
      ],
      "execution_count": null,
      "outputs": []
    },
    {
      "cell_type": "code",
      "metadata": {
        "id": "aCjO_scl8kWi"
      },
      "source": [
        "import pandas as pd"
      ],
      "execution_count": null,
      "outputs": []
    },
    {
      "cell_type": "code",
      "metadata": {
        "id": "gJpvnANmbQ8r"
      },
      "source": [
        "avg = pd.read_csv(\"avg.csv\")"
      ],
      "execution_count": null,
      "outputs": []
    },
    {
      "cell_type": "code",
      "metadata": {
        "id": "KWeneyeWcQIS"
      },
      "source": [
        "order = pd.read_csv(\"order.csv\")"
      ],
      "execution_count": null,
      "outputs": []
    },
    {
      "cell_type": "code",
      "metadata": {
        "colab": {
          "base_uri": "https://localhost:8080/"
        },
        "id": "5V7KTue4d1HN",
        "outputId": "77cd103e-5672-43a3-bd62-3c02c1b364d5"
      },
      "source": [
        "target =[128, 105, 129, 108, 88, 96, 104, 101, 136, 130, 163, 119]\n",
        "for i in range(1, 13):\n",
        "  bowlers =[]\n",
        "  bowling_order =[]\n",
        "  index = 0\n",
        "  for bowler in order.loc[(i-1)*10:(i*10)-1, \"Order\"].unique():\n",
        "    average = avg.loc[avg[\"Bowler\"] == bowler, \"Average\"]\n",
        "    b = Bowler(bowler, average)\n",
        "    bowlers.append(b)\n",
        "    bowling_order.append((bowler, index))\n",
        "    index += 1\n",
        "\n",
        "  order_to_pass = []\n",
        "  for bowler in order.loc[(i-1)*10:(i*10)-1, \"Order\"]:\n",
        "    for b in bowling_order:\n",
        "      if b[0] == bowler:\n",
        "        order_to_pass.append(b[1])\n",
        "\n",
        "  sample = AStar(target[i-1], bowlers, order_to_pass)\n",
        "  path = sample.find_combination()\n",
        "  for node in path:\n",
        "      print(node.cost, \",\", node.runs)\n",
        "\n",
        "  "
      ],
      "execution_count": null,
      "outputs": [
        {
          "output_type": "stream",
          "name": "stdout",
          "text": [
            "5.581180811808118 , 11\n",
            "6.477577615944806 , 13\n",
            "5.5175558595531236 , 11\n",
            "6.220302375809935 , 12\n",
            "8.922506946588452 , 17\n",
            "5.581180811808118 , 11\n",
            "8.922506946588452 , 17\n",
            "5.5175558595531236 , 11\n",
            "6.220302375809935 , 12\n",
            "6.477577615944806 , 13\n",
            "4.826254826254827 , 10\n",
            "4.750593824228028 , 10\n",
            "5.053057099545225 , 10\n",
            "4.791566842357451 , 10\n",
            "5.053057099545225 , 10\n",
            "6.36055701919458 , 13\n",
            "4.826254826254827 , 10\n",
            "4.750593824228028 , 10\n",
            "4.791566842357451 , 10\n",
            "5.818181818181818 , 12\n",
            "4.3365134431916745 , 10\n",
            "5.135823429541596 , 11\n",
            "5.4961832061068705 , 12\n",
            "4.703668861712135 , 10\n",
            "4.3365134431916745 , 10\n",
            "3.8099717779868296 , 9\n",
            "9.877551020408163 , 22\n",
            "5.4961832061068705 , 12\n",
            "5.135823429541596 , 11\n",
            "9.877551020408163 , 22\n",
            "4.3308791684712 , 10\n",
            "5.378739656269891 , 13\n",
            "4.704510108864697 , 11\n",
            "5.3019145802650955 , 12\n",
            "3.245436105476674 , 8\n",
            "4.3308791684712 , 10\n",
            "4.704510108864697 , 11\n",
            "5.3019145802650955 , 12\n",
            "5.378739656269891 , 13\n",
            "3.245436105476674 , 8\n",
            "3.5494279847462598 , 11\n",
            "2.179715302491103 , 7\n",
            "2.192393736017897 , 7\n",
            "3.555686159271231 , 11\n",
            "2.8045574057844 , 8\n",
            "3.5494279847462598 , 11\n",
            "2.179715302491103 , 7\n",
            "2.192393736017897 , 7\n",
            "3.555686159271231 , 11\n",
            "2.8045574057844 , 8\n",
            "3.5840707964601766 , 9\n",
            "3.579319487406098 , 9\n",
            "3.16988608221892 , 8\n",
            "3.945445689235265 , 9\n",
            "5.665437479047939 , 13\n",
            "3.945445689235265 , 9\n",
            "3.5840707964601766 , 9\n",
            "3.16988608221892 , 8\n",
            "3.579319487406098 , 9\n",
            "5.665437479047939 , 13\n",
            "4.957465532414197 , 13\n",
            "2.8469750889679717 , 8\n",
            "2.8045574057844 , 8\n",
            "3.5650623885918002 , 10\n",
            "4.298507462686567 , 12\n",
            "4.231560387893035 , 12\n",
            "4.957465532414197 , 13\n",
            "4.298507462686567 , 12\n",
            "2.8469750889679717 , 8\n",
            "2.8045574057844 , 8\n",
            "4.424778761061947 , 10\n",
            "4.011887072808321 , 9\n",
            "4.4189129474149365 , 10\n",
            "3.945445689235265 , 9\n",
            "5.665437479047939 , 13\n",
            "4.4189129474149365 , 10\n",
            "5.665437479047939 , 13\n",
            "3.16988608221892 , 8\n",
            "4.424778761061947 , 10\n",
            "3.945445689235265 , 9\n",
            "6.566347469220246 , 12\n",
            "7.376740684983064 , 14\n",
            "7.300215982721383 , 13\n",
            "6.566347469220246 , 12\n",
            "8.433283358320839 , 15\n",
            "7.512456880030663 , 14\n",
            "7.300215982721383 , 13\n",
            "8.433283358320839 , 15\n",
            "7.512456880030663 , 14\n",
            "7.376740684983064 , 14\n",
            "6.236466002598528 , 12\n",
            "7.216494845360825 , 14\n",
            "6.570762052877138 , 13\n",
            "5.070993914807302 , 10\n",
            "7.637474541751527 , 15\n",
            "8.147676639083386 , 16\n",
            "7.620528771384137 , 14\n",
            "6.236466002598528 , 12\n",
            "7.216494845360825 , 14\n",
            "5.070993914807302 , 10\n",
            "8.937528499772002 , 14\n",
            "10.876928867143395 , 17\n",
            "8.937528499772002 , 14\n",
            "9.719222462203025 , 15\n",
            "12.349490583513429 , 20\n",
            "9.812188577999233 , 16\n",
            "12.349490583513429 , 20\n",
            "8.466522678185745 , 14\n",
            "9.812188577999233 , 16\n",
            "10.876928867143395 , 17\n",
            "3.0534351145038165 , 8\n",
            "3.9032006245121 , 10\n",
            "3.579319487406098 , 9\n",
            "8.018181818181818 , 21\n",
            "3.579319487406098 , 9\n",
            "3.0534351145038165 , 8\n",
            "3.660322108345534 , 10\n",
            "8.018181818181818 , 21\n",
            "4.428989751098096 , 11\n",
            "4.518355820520866 , 12\n"
          ]
        }
      ]
    },
    {
      "cell_type": "code",
      "metadata": {
        "colab": {
          "base_uri": "https://localhost:8080/"
        },
        "id": "ZjKfRtybbYKi",
        "outputId": "d75a1d14-a458-4ffc-bdaf-90f103c27afc"
      },
      "source": [
        "for i in range(1,13):\n",
        "  print((i-1)*10, (i*10)-1)"
      ],
      "execution_count": null,
      "outputs": [
        {
          "output_type": "stream",
          "name": "stdout",
          "text": [
            "0 9\n",
            "10 19\n",
            "20 29\n",
            "30 39\n",
            "40 49\n",
            "50 59\n",
            "60 69\n",
            "70 79\n",
            "80 89\n",
            "90 99\n",
            "100 109\n",
            "110 119\n"
          ]
        }
      ]
    },
    {
      "cell_type": "code",
      "metadata": {
        "id": "-jrLb02_cwx3",
        "colab": {
          "base_uri": "https://localhost:8080/"
        },
        "outputId": "3b89ebb6-39fe-4c3e-c818-f5a0c36ba3b4"
      },
      "source": [
        "bowling_order"
      ],
      "execution_count": null,
      "outputs": [
        {
          "output_type": "execute_result",
          "data": {
            "text/plain": [
              "[('Mahesh Theekshana', 0),\n",
              " ('Wayne Parnell', 1),\n",
              " ('Wahab Riaz', 2),\n",
              " ('Rayad Emrit', 3),\n",
              " ('Fabian Allen', 4)]"
            ]
          },
          "metadata": {},
          "execution_count": 49
        }
      ]
    },
    {
      "cell_type": "code",
      "metadata": {
        "id": "Qm1GUUhSmNYM"
      },
      "source": [
        "AStar(60, bowlers, [0, 1, 2, 3])"
      ],
      "execution_count": null,
      "outputs": []
    }
  ]
}